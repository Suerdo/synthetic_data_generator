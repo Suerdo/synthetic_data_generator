{
 "cells": [
  {
   "cell_type": "markdown",
   "id": "a4e1fe63-f34e-42b2-ab29-b2f5055d50eb",
   "metadata": {},
   "source": [
    "## Modelo CTGAN para Geração dos Dados Sintéticos\n",
    "<hr>\n",
    "\n",
    "<p align=\"justify\">O modelo pré-treinado está disponível em: <a href=\"https://github.com/sdv-dev/CTGAN\" target=\"_blank\">https://github.com/sdv-dev/CTGAN</a>. Ele foi escolhido por se tratar de uma solução robusta e específica para a geração de dados tabulares sintéticos. O <strong>CTGAN</strong> (Conditional Tabular GAN) se destaca pela capacidade de lidar com distribuições complexas, dados desbalanceados e variáveis categóricas, tornando-se ideal para cenários onde é necessário preservar as características fidedignas dos dados reais, sem comprometer a privacidade ou a segurança das informações.</p>"
   ]
  },
  {
   "cell_type": "markdown",
   "id": "bb64b453-d8b0-4a7c-8ac4-7fd78492afa2",
   "metadata": {},
   "source": [
    "### 0. Instalação da Biblioteca CTGAN"
   ]
  },
  {
   "cell_type": "code",
   "execution_count": 15,
   "id": "0efeccba-e85e-4b6b-a449-b7dab191d26f",
   "metadata": {
    "scrolled": true
   },
   "outputs": [
    {
     "name": "stdout",
     "output_type": "stream",
     "text": [
      "Requirement already satisfied: ctgan in c:\\users\\suerdo\\anaconda3\\lib\\site-packages (0.11.0)\n",
      "Requirement already satisfied: numpy>=1.26.0 in c:\\users\\suerdo\\anaconda3\\lib\\site-packages (from ctgan) (1.26.4)\n",
      "Requirement already satisfied: pandas>=2.1.1 in c:\\users\\suerdo\\anaconda3\\lib\\site-packages (from ctgan) (2.2.2)\n",
      "Requirement already satisfied: torch>=2.2.0 in c:\\users\\suerdo\\anaconda3\\lib\\site-packages (from ctgan) (2.6.0)\n",
      "Requirement already satisfied: tqdm<5,>=4.29 in c:\\users\\suerdo\\anaconda3\\lib\\site-packages (from ctgan) (4.66.5)\n",
      "Requirement already satisfied: rdt>=1.14.0 in c:\\users\\suerdo\\anaconda3\\lib\\site-packages (from ctgan) (1.16.0)\n",
      "Requirement already satisfied: python-dateutil>=2.8.2 in c:\\users\\suerdo\\anaconda3\\lib\\site-packages (from pandas>=2.1.1->ctgan) (2.9.0.post0)\n",
      "Requirement already satisfied: pytz>=2020.1 in c:\\users\\suerdo\\anaconda3\\lib\\site-packages (from pandas>=2.1.1->ctgan) (2024.1)\n",
      "Requirement already satisfied: tzdata>=2022.7 in c:\\users\\suerdo\\anaconda3\\lib\\site-packages (from pandas>=2.1.1->ctgan) (2023.3)\n",
      "Requirement already satisfied: scipy>=1.12.0 in c:\\users\\suerdo\\anaconda3\\lib\\site-packages (from rdt>=1.14.0->ctgan) (1.13.1)\n",
      "Requirement already satisfied: scikit-learn>=1.3.1 in c:\\users\\suerdo\\anaconda3\\lib\\site-packages (from rdt>=1.14.0->ctgan) (1.5.1)\n",
      "Requirement already satisfied: Faker>=17 in c:\\users\\suerdo\\anaconda3\\lib\\site-packages (from rdt>=1.14.0->ctgan) (37.1.0)\n",
      "Requirement already satisfied: filelock in c:\\users\\suerdo\\anaconda3\\lib\\site-packages (from torch>=2.2.0->ctgan) (3.13.1)\n",
      "Requirement already satisfied: typing-extensions>=4.10.0 in c:\\users\\suerdo\\anaconda3\\lib\\site-packages (from torch>=2.2.0->ctgan) (4.11.0)\n",
      "Requirement already satisfied: networkx in c:\\users\\suerdo\\anaconda3\\lib\\site-packages (from torch>=2.2.0->ctgan) (3.3)\n",
      "Requirement already satisfied: jinja2 in c:\\users\\suerdo\\anaconda3\\lib\\site-packages (from torch>=2.2.0->ctgan) (3.1.4)\n",
      "Requirement already satisfied: fsspec in c:\\users\\suerdo\\anaconda3\\lib\\site-packages (from torch>=2.2.0->ctgan) (2024.6.1)\n",
      "Requirement already satisfied: setuptools in c:\\users\\suerdo\\anaconda3\\lib\\site-packages (from torch>=2.2.0->ctgan) (75.1.0)\n",
      "Requirement already satisfied: sympy==1.13.1 in c:\\users\\suerdo\\anaconda3\\lib\\site-packages (from torch>=2.2.0->ctgan) (1.13.1)\n",
      "Requirement already satisfied: mpmath<1.4,>=1.1.0 in c:\\users\\suerdo\\anaconda3\\lib\\site-packages (from sympy==1.13.1->torch>=2.2.0->ctgan) (1.3.0)\n",
      "Requirement already satisfied: colorama in c:\\users\\suerdo\\anaconda3\\lib\\site-packages (from tqdm<5,>=4.29->ctgan) (0.4.6)\n",
      "Requirement already satisfied: six>=1.5 in c:\\users\\suerdo\\anaconda3\\lib\\site-packages (from python-dateutil>=2.8.2->pandas>=2.1.1->ctgan) (1.16.0)\n",
      "Requirement already satisfied: joblib>=1.2.0 in c:\\users\\suerdo\\anaconda3\\lib\\site-packages (from scikit-learn>=1.3.1->rdt>=1.14.0->ctgan) (1.4.2)\n",
      "Requirement already satisfied: threadpoolctl>=3.1.0 in c:\\users\\suerdo\\anaconda3\\lib\\site-packages (from scikit-learn>=1.3.1->rdt>=1.14.0->ctgan) (3.5.0)\n",
      "Requirement already satisfied: MarkupSafe>=2.0 in c:\\users\\suerdo\\anaconda3\\lib\\site-packages (from jinja2->torch>=2.2.0->ctgan) (2.1.3)\n",
      "Note: you may need to restart the kernel to use updated packages.\n"
     ]
    }
   ],
   "source": [
    "pip install ctgan"
   ]
  },
  {
   "cell_type": "markdown",
   "id": "75271929-a433-451d-b438-c3ad4aa33568",
   "metadata": {},
   "source": [
    "### 1. Importação dos Dados Gerados para Treinamento"
   ]
  },
  {
   "cell_type": "code",
   "execution_count": 4,
   "id": "5a14d76a-a34f-46dc-9790-8a89e70f8900",
   "metadata": {},
   "outputs": [
    {
     "data": {
      "text/html": [
       "<div>\n",
       "<style scoped>\n",
       "    .dataframe tbody tr th:only-of-type {\n",
       "        vertical-align: middle;\n",
       "    }\n",
       "\n",
       "    .dataframe tbody tr th {\n",
       "        vertical-align: top;\n",
       "    }\n",
       "\n",
       "    .dataframe thead th {\n",
       "        text-align: right;\n",
       "    }\n",
       "</style>\n",
       "<table border=\"1\" class=\"dataframe\">\n",
       "  <thead>\n",
       "    <tr style=\"text-align: right;\">\n",
       "      <th></th>\n",
       "      <th>Nome</th>\n",
       "      <th>Nascimento</th>\n",
       "      <th>CPF</th>\n",
       "      <th>RG</th>\n",
       "      <th>Endereço</th>\n",
       "      <th>Telefone</th>\n",
       "      <th>Login</th>\n",
       "      <th>Senha</th>\n",
       "    </tr>\n",
       "  </thead>\n",
       "  <tbody>\n",
       "    <tr>\n",
       "      <th>0</th>\n",
       "      <td>Hadassa Pereira</td>\n",
       "      <td>1962-10-16</td>\n",
       "      <td>129.685.704-20</td>\n",
       "      <td>812560346</td>\n",
       "      <td>Quadra Sá, 893, São José, 23314869 Lopes das F...</td>\n",
       "      <td>(67) 95961-1883</td>\n",
       "      <td>eldwgbxl187</td>\n",
       "      <td>CP0Gk6u7+#</td>\n",
       "    </tr>\n",
       "    <tr>\n",
       "      <th>1</th>\n",
       "      <td>José Pimenta</td>\n",
       "      <td>1959-06-19</td>\n",
       "      <td>701.235.498-41</td>\n",
       "      <td>028765138</td>\n",
       "      <td>Jardim de Siqueira, 68, Caetano Furquim, 63647...</td>\n",
       "      <td>(40) 98416-3591</td>\n",
       "      <td>ijcrwtsi977</td>\n",
       "      <td>t$6iZySN_2</td>\n",
       "    </tr>\n",
       "    <tr>\n",
       "      <th>2</th>\n",
       "      <td>Dr. Lucas Fernandes</td>\n",
       "      <td>2009-05-23</td>\n",
       "      <td>946.513.287-09</td>\n",
       "      <td>531876421</td>\n",
       "      <td>Chácara Mendonça, 39, Santa Inês, 80425-898 Cu...</td>\n",
       "      <td>(20) 97085-7985</td>\n",
       "      <td>zgwecwl908</td>\n",
       "      <td>YDVOg90g&amp;@</td>\n",
       "    </tr>\n",
       "    <tr>\n",
       "      <th>3</th>\n",
       "      <td>Matteo da Rosa</td>\n",
       "      <td>1914-03-19</td>\n",
       "      <td>058.691.374-20</td>\n",
       "      <td>087465218</td>\n",
       "      <td>Jardim de Cassiano, 72, Nova Floresta, 55686-0...</td>\n",
       "      <td>(52) 98108-7007</td>\n",
       "      <td>ovwa0758</td>\n",
       "      <td>dV$11Xa$6p</td>\n",
       "    </tr>\n",
       "    <tr>\n",
       "      <th>4</th>\n",
       "      <td>Luna Dias</td>\n",
       "      <td>2014-05-28</td>\n",
       "      <td>970.216.854-67</td>\n",
       "      <td>23457186X</td>\n",
       "      <td>Favela Melo, 138, Nova America, 20442-459 Silv...</td>\n",
       "      <td>(11) 97183-8924</td>\n",
       "      <td>kejc3405</td>\n",
       "      <td>E4zR$lmd(x</td>\n",
       "    </tr>\n",
       "  </tbody>\n",
       "</table>\n",
       "</div>"
      ],
      "text/plain": [
       "                  Nome  Nascimento             CPF         RG  \\\n",
       "0      Hadassa Pereira  1962-10-16  129.685.704-20  812560346   \n",
       "1         José Pimenta  1959-06-19  701.235.498-41  028765138   \n",
       "2  Dr. Lucas Fernandes  2009-05-23  946.513.287-09  531876421   \n",
       "3       Matteo da Rosa  1914-03-19  058.691.374-20  087465218   \n",
       "4            Luna Dias  2014-05-28  970.216.854-67  23457186X   \n",
       "\n",
       "                                            Endereço         Telefone  \\\n",
       "0  Quadra Sá, 893, São José, 23314869 Lopes das F...  (67) 95961-1883   \n",
       "1  Jardim de Siqueira, 68, Caetano Furquim, 63647...  (40) 98416-3591   \n",
       "2  Chácara Mendonça, 39, Santa Inês, 80425-898 Cu...  (20) 97085-7985   \n",
       "3  Jardim de Cassiano, 72, Nova Floresta, 55686-0...  (52) 98108-7007   \n",
       "4  Favela Melo, 138, Nova America, 20442-459 Silv...  (11) 97183-8924   \n",
       "\n",
       "         Login       Senha  \n",
       "0  eldwgbxl187  CP0Gk6u7+#  \n",
       "1  ijcrwtsi977  t$6iZySN_2  \n",
       "2   zgwecwl908  YDVOg90g&@  \n",
       "3     ovwa0758  dV$11Xa$6p  \n",
       "4     kejc3405  E4zR$lmd(x  "
      ]
     },
     "execution_count": 4,
     "metadata": {},
     "output_type": "execute_result"
    }
   ],
   "source": [
    "import pandas as pd\n",
    "\n",
    "df = pd.read_csv(\"../dataset/generated_data.csv\")\n",
    "df.head()"
   ]
  },
  {
   "cell_type": "markdown",
   "id": "f3d23cd1-7edf-47f3-96db-877dd78a442f",
   "metadata": {},
   "source": [
    "### 2. Gerador de Dados Sintéticos com CTGAN"
   ]
  },
  {
   "cell_type": "code",
   "execution_count": 6,
   "id": "7f9327f7-fab1-4d02-bc5a-890966685c07",
   "metadata": {},
   "outputs": [
    {
     "name": "stdout",
     "output_type": "stream",
     "text": [
      "Amostra dos dados de treinamento:\n",
      "                  Nome  Nascimento             CPF         RG  \\\n",
      "0      Hadassa Pereira  1962-10-16  129.685.704-20  812560346   \n",
      "1         José Pimenta  1959-06-19  701.235.498-41  028765138   \n",
      "2  Dr. Lucas Fernandes  2009-05-23  946.513.287-09  531876421   \n",
      "3       Matteo da Rosa  1914-03-19  058.691.374-20  087465218   \n",
      "4            Luna Dias  2014-05-28  970.216.854-67  23457186X   \n",
      "\n",
      "                                            Endereço         Telefone  \\\n",
      "0  Quadra Sá, 893, São José, 23314869 Lopes das F...  (67) 95961-1883   \n",
      "1  Jardim de Siqueira, 68, Caetano Furquim, 63647...  (40) 98416-3591   \n",
      "2  Chácara Mendonça, 39, Santa Inês, 80425-898 Cu...  (20) 97085-7985   \n",
      "3  Jardim de Cassiano, 72, Nova Floresta, 55686-0...  (52) 98108-7007   \n",
      "4  Favela Melo, 138, Nova America, 20442-459 Silv...  (11) 97183-8924   \n",
      "\n",
      "         Login       Senha  \n",
      "0  eldwgbxl187  CP0Gk6u7+#  \n",
      "1  ijcrwtsi977  t$6iZySN_2  \n",
      "2   zgwecwl908  YDVOg90g&@  \n",
      "3     ovwa0758  dV$11Xa$6p  \n",
      "4     kejc3405  E4zR$lmd(x  \n",
      "\n",
      "Tipos de dados:\n",
      "Nome          object\n",
      "Nascimento    object\n",
      "CPF           object\n",
      "RG            object\n",
      "Endereço      object\n",
      "Telefone      object\n",
      "Login         object\n",
      "Senha         object\n",
      "dtype: object\n"
     ]
    },
    {
     "name": "stderr",
     "output_type": "stream",
     "text": [
      "Gen. (7.09) | Discrim. (0.01): 100%|███████████████████████████████████████████████████| 15/15 [03:17<00:00, 13.17s/it]\n"
     ]
    },
    {
     "name": "stdout",
     "output_type": "stream",
     "text": [
      "\n",
      "Amostra de dados sintéticos gerados:\n",
      "                   Nome  Nascimento             CPF         RG  \\\n",
      "0         Heitor Santos  1965-08-10  275.601.894-58  570413862   \n",
      "1  Dr. Paulo Montenegro  2003-05-29  325.691.408-05  73854601X   \n",
      "2        Isabella Silva  1957-06-04  426.073.591-80  305274181   \n",
      "3    Dr. Benjamim Pires  1940-06-20  679.438.025-00  704821539   \n",
      "4         Raquel Campos  2024-08-14  852.901.437-50  817250645   \n",
      "\n",
      "                                            Endereço         Telefone  \\\n",
      "0  Vale Caldeira, 31, Liberdade, 21454-492 Abreu ...  (92) 97987-0271   \n",
      "1  Parque Mariane Casa Grande, Vila Ouro Minas, 2...  (64) 98050-4800   \n",
      "2  Condomínio Rodrigues, 977, Prado, 89088174 Rod...  (29) 96443-3900   \n",
      "3  Área Castro, 38, Flavio Marques Lisboa, 06780-...  (47) 97648-7366   \n",
      "4  Lago Moura, Vila Jardim Alvorada, 63764-867 Sa...  (86) 96230-5065   \n",
      "\n",
      "         Login       Senha  \n",
      "0   cynpyc7108  7pBg%V5V)k  \n",
      "1  rgwyooj5213  !CLnL2An*)  \n",
      "2    fgkrb7860  )aLJISUE87  \n",
      "3     jyvva608  U6VY+UqV!l  \n",
      "4     zutat828  (MI$ljqQ1x  \n"
     ]
    }
   ],
   "source": [
    "import pandas as pd\n",
    "from ctgan import CTGAN\n",
    "import random\n",
    "import string\n",
    "\n",
    "# Verificação dos dados\n",
    "print(\"Amostra dos dados de treinamento:\")\n",
    "print(df.head())\n",
    "print(\"\\nTipos de dados:\")\n",
    "print(df.dtypes)\n",
    "\n",
    "# Pré-processamento para o CTGAN\n",
    "discrete_columns = ['Nome', 'CPF', 'RG', 'Login', 'Endereço', 'Telefone','Nascimento', 'Senha']\n",
    "for col in discrete_columns:\n",
    "    df[col] = df[col].astype(str)\n",
    "\n",
    "# Configuração do modelo\n",
    "ctgan = CTGAN(\n",
    "    epochs=15,  # Balance entre qualidade e tempo de execução\n",
    "    batch_size=200,\n",
    "    verbose=True\n",
    ")\n",
    "\n",
    "# Treinamento e geração\n",
    "ctgan.fit(df, discrete_columns)\n",
    "synthetic_data = ctgan.sample(1000)\n",
    "\n",
    "print(\"\\nAmostra de dados sintéticos gerados:\")\n",
    "print(synthetic_data.head())\n",
    "\n",
    "synthetic_data.to_csv('../generator/synthetic_secure_data.csv', index=False)"
   ]
  }
 ],
 "metadata": {
  "kernelspec": {
   "display_name": "Python [conda env:base] *",
   "language": "python",
   "name": "conda-base-py"
  },
  "language_info": {
   "codemirror_mode": {
    "name": "ipython",
    "version": 3
   },
   "file_extension": ".py",
   "mimetype": "text/x-python",
   "name": "python",
   "nbconvert_exporter": "python",
   "pygments_lexer": "ipython3",
   "version": "3.12.7"
  }
 },
 "nbformat": 4,
 "nbformat_minor": 5
}
